{
  "nbformat": 4,
  "nbformat_minor": 0,
  "metadata": {
    "colab": {
      "name": "Laboratorio8junio.ipynb",
      "provenance": [],
      "authorship_tag": "ABX9TyPSpaGxs6FucxXpzknQU4lj",
      "include_colab_link": true
    },
    "kernelspec": {
      "name": "python3",
      "display_name": "Python 3"
    },
    "language_info": {
      "name": "python"
    }
  },
  "cells": [
    {
      "cell_type": "markdown",
      "metadata": {
        "id": "view-in-github",
        "colab_type": "text"
      },
      "source": [
        "<a href=\"https://colab.research.google.com/github/KevinLeeR/crgc/blob/main/Laboratorio8junio.ipynb\" target=\"_parent\"><img src=\"https://colab.research.google.com/assets/colab-badge.svg\" alt=\"Open In Colab\"/></a>"
      ]
    },
    {
      "cell_type": "markdown",
      "source": [
        "**Laboratorio inicial de uso de Colab**"
      ],
      "metadata": {
        "id": "cAEyzuvNBSMi"
      }
    },
    {
      "cell_type": "code",
      "source": [
        "import pandas as pd\n",
        "\n",
        "from google.colab import auth\n",
        "auth.authenticate_user()\n",
        "\n",
        "import gspread\n",
        "from google.auth import default \n",
        "creds, _= default()\n",
        "\n",
        "gc=gspread.authorize(creds)\n",
        "sh=gc.create('Kevin')"
      ],
      "metadata": {
        "id": "imPxMIw7CXjh"
      },
      "execution_count": 3,
      "outputs": []
    },
    {
      "cell_type": "code",
      "source": [
        "worksheet = gc.open('Kevin').sheet1\n",
        "\n",
        "cell_list = worksheet.range('A1:G14')\n",
        "\n",
        "import random\n",
        "for cell in cell_list:\n",
        "  cell.value = random.randint(5,500)\n",
        "\n",
        "worksheet.update_cells(cell_list)"
      ],
      "metadata": {
        "colab": {
          "base_uri": "https://localhost:8080/"
        },
        "id": "ngVgyAzKE3F7",
        "outputId": "2b19696a-71ec-4d7f-e088-1b76db2c0fc1"
      },
      "execution_count": 4,
      "outputs": [
        {
          "output_type": "execute_result",
          "data": {
            "text/plain": [
              "{'spreadsheetId': '1FH-8gngp0jrV4-J2Qm0LC0oFPNn7xLYPaxZ_ekOsU_8',\n",
              " 'updatedCells': 98,\n",
              " 'updatedColumns': 7,\n",
              " 'updatedRange': \"'Hoja 1'!A1:G14\",\n",
              " 'updatedRows': 14}"
            ]
          },
          "metadata": {},
          "execution_count": 4
        }
      ]
    },
    {
      "cell_type": "code",
      "source": [
        "worksheet = gc.open('Kevin').sheet1\n",
        "rows=worksheet.get_all_values()\n",
        "print(rows)\n",
        "\n",
        "[['300','380','21','250','352','300']]"
      ],
      "metadata": {
        "colab": {
          "base_uri": "https://localhost:8080/"
        },
        "id": "JlL9g-VNH-ne",
        "outputId": "d9dec5ef-de17-4ac9-8a3b-e4fd3548941e"
      },
      "execution_count": 5,
      "outputs": [
        {
          "output_type": "stream",
          "name": "stdout",
          "text": [
            "[['66', '246', '72', '484', '302', '375', '158'], ['48', '421', '333', '101', '34', '371', '456'], ['141', '8', '255', '190', '69', '89', '494'], ['371', '414', '82', '35', '29', '50', '25'], ['316', '299', '306', '407', '238', '259', '93'], ['422', '197', '349', '164', '439', '199', '290'], ['222', '9', '63', '155', '487', '263', '453'], ['355', '82', '169', '7', '467', '177', '249'], ['245', '196', '13', '384', '137', '267', '73'], ['302', '389', '186', '289', '118', '118', '73'], ['276', '344', '457', '439', '235', '322', '108'], ['101', '84', '224', '270', '24', '54', '465'], ['173', '198', '345', '293', '293', '378', '285'], ['318', '277', '16', '44', '451', '115', '67']]\n"
          ]
        },
        {
          "output_type": "execute_result",
          "data": {
            "text/plain": [
              "[['300', '380', '21', '250', '352', '300']]"
            ]
          },
          "metadata": {},
          "execution_count": 5
        }
      ]
    }
  ]
}